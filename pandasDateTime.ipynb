{
 "cells": [
  {
   "cell_type": "code",
   "execution_count": 1,
   "id": "c8e88882-5614-48e3-ab1e-e9b4248b3198",
   "metadata": {},
   "outputs": [],
   "source": [
    "import pandas as pd \n",
    "import numpy as np "
   ]
  },
  {
   "cell_type": "code",
   "execution_count": 3,
   "id": "4247b019-38c1-45ef-818b-f5ff9038bfc9",
   "metadata": {},
   "outputs": [
    {
     "data": {
      "text/plain": [
       "pandas._libs.tslibs.timestamps.Timestamp"
      ]
     },
     "execution_count": 3,
     "metadata": {},
     "output_type": "execute_result"
    }
   ],
   "source": [
    "#creating a timestamp \n",
    "type(pd.Timestamp('2025/02/15'))"
   ]
  },
  {
   "cell_type": "code",
   "execution_count": 5,
   "id": "b9f7da9d-54bd-4ada-96be-58a079a9ba90",
   "metadata": {},
   "outputs": [
    {
     "data": {
      "text/plain": [
       "Timestamp('2025-02-21 23:48:00')"
      ]
     },
     "execution_count": 5,
     "metadata": {},
     "output_type": "execute_result"
    }
   ],
   "source": [
    "#providing time also \n",
    "pd.Timestamp('21st february 2025 11:48 pm')\n"
   ]
  },
  {
   "cell_type": "code",
   "execution_count": 9,
   "id": "0ea57f03-8fab-43a2-a74b-7acf826b0fa7",
   "metadata": {},
   "outputs": [
    {
     "data": {
      "text/plain": [
       "0"
      ]
     },
     "execution_count": 9,
     "metadata": {},
     "output_type": "execute_result"
    }
   ],
   "source": [
    "import datetime as dt\n",
    "x = pd.Timestamp(dt.datetime(2025,2,21,11,50))\n",
    "\n",
    "#FETCHING ATTRIBUTE \n",
    "x.year\n",
    "x.month\n",
    "x.day\n",
    "x.hour\n",
    "x.minute\n",
    "x.second"
   ]
  },
  {
   "cell_type": "code",
   "execution_count": 10,
   "id": "688036a8-4691-4e2c-8afa-f96e0ee765d8",
   "metadata": {},
   "outputs": [
    {
     "data": {
      "text/plain": [
       "DatetimeIndex(['2025-02-21', '2025-02-22', '2025-02-23'], dtype='datetime64[ns]', freq=None)"
      ]
     },
     "execution_count": 10,
     "metadata": {},
     "output_type": "execute_result"
    }
   ],
   "source": [
    "#DATETIME INDEX \n",
    "\n",
    "#from strings \n",
    "pd.DatetimeIndex(['2025-02-21','2025-02-22','2025-02-23'])"
   ]
  },
  {
   "cell_type": "code",
   "execution_count": 12,
   "id": "bfe23423-fc8d-423c-a74b-22c0f05f6462",
   "metadata": {},
   "outputs": [
    {
     "data": {
      "text/plain": [
       "DatetimeIndex(['2025-02-21', '2025-02-22', '2025-02-23'], dtype='datetime64[ns]', freq=None)"
      ]
     },
     "execution_count": 12,
     "metadata": {},
     "output_type": "execute_result"
    }
   ],
   "source": [
    "#using python datetime object \n",
    "pd.DatetimeIndex([dt.datetime(2025,2,21),dt.datetime(2025,2,22),dt.datetime(2025,2,23)])"
   ]
  },
  {
   "cell_type": "code",
   "execution_count": 14,
   "id": "5d4d5c1d-e3ce-4a49-a973-059351855312",
   "metadata": {},
   "outputs": [],
   "source": [
    "#using pd.timestamps\n",
    "dt_index = pd.DatetimeIndex([pd.Timestamp(2025,2,21),pd.Timestamp(2025,2,22),pd.Timestamp(2025,2,23),])"
   ]
  },
  {
   "cell_type": "code",
   "execution_count": 15,
   "id": "2180698c-4088-4955-a504-4ccca5164878",
   "metadata": {},
   "outputs": [
    {
     "data": {
      "text/plain": [
       "2025-02-21    1\n",
       "2025-02-22    2\n",
       "2025-02-23    3\n",
       "dtype: int64"
      ]
     },
     "execution_count": 15,
     "metadata": {},
     "output_type": "execute_result"
    }
   ],
   "source": [
    "pd.Series([1,2,3],index=dt_index)"
   ]
  },
  {
   "cell_type": "markdown",
   "id": "f4dcad80-2454-4bce-b799-ac3363a5fe6c",
   "metadata": {},
   "source": [
    "<h2>Date Range Functions </h2>"
   ]
  },
  {
   "cell_type": "code",
   "execution_count": 17,
   "id": "39034afc-c729-4c2d-bc14-8646dcb7f6ad",
   "metadata": {},
   "outputs": [
    {
     "data": {
      "text/plain": [
       "DatetimeIndex(['2025-02-22', '2025-02-25', '2025-02-28', '2025-03-03'], dtype='datetime64[ns]', freq='3D')"
      ]
     },
     "execution_count": 17,
     "metadata": {},
     "output_type": "execute_result"
    }
   ],
   "source": [
    "#generates daily dates in a given range \n",
    "pd.date_range(start='2025/2/22',end='2025/3/5',freq='3D')"
   ]
  },
  {
   "cell_type": "code",
   "execution_count": 18,
   "id": "a52f10dc-75eb-4b24-97fb-150da98feecd",
   "metadata": {},
   "outputs": [
    {
     "data": {
      "text/plain": [
       "DatetimeIndex(['2025-02-24', '2025-02-25', '2025-02-26', '2025-02-27',\n",
       "               '2025-02-28', '2025-03-03', '2025-03-04', '2025-03-05'],\n",
       "              dtype='datetime64[ns]', freq='B')"
      ]
     },
     "execution_count": 18,
     "metadata": {},
     "output_type": "execute_result"
    }
   ],
   "source": [
    "#B-> busineess days , W->one week per day  (W-Thu) --> for that particular day\n",
    "pd.date_range(start='2025/2/22',end='2025/3/5',freq='B')"
   ]
  },
  {
   "cell_type": "code",
   "execution_count": 20,
   "id": "998bf764-8783-4db9-b43b-8b0f200f6dab",
   "metadata": {},
   "outputs": [
    {
     "data": {
      "text/plain": [
       "DatetimeIndex(['2025-02-22 00:00:00', '2025-02-22 01:00:00',\n",
       "               '2025-02-22 02:00:00', '2025-02-22 03:00:00',\n",
       "               '2025-02-22 04:00:00', '2025-02-22 05:00:00',\n",
       "               '2025-02-22 06:00:00', '2025-02-22 07:00:00',\n",
       "               '2025-02-22 08:00:00', '2025-02-22 09:00:00',\n",
       "               ...\n",
       "               '2025-03-04 15:00:00', '2025-03-04 16:00:00',\n",
       "               '2025-03-04 17:00:00', '2025-03-04 18:00:00',\n",
       "               '2025-03-04 19:00:00', '2025-03-04 20:00:00',\n",
       "               '2025-03-04 21:00:00', '2025-03-04 22:00:00',\n",
       "               '2025-03-04 23:00:00', '2025-03-05 00:00:00'],\n",
       "              dtype='datetime64[ns]', length=265, freq='H')"
      ]
     },
     "execution_count": 20,
     "metadata": {},
     "output_type": "execute_result"
    }
   ],
   "source": [
    "#H --> hourly date(factor)\n",
    "pd.date_range(start='2025/2/22',end='2025/3/5',freq='H')"
   ]
  },
  {
   "cell_type": "code",
   "execution_count": 21,
   "id": "59a545e5-d040-4c4a-9897-f67c148f1742",
   "metadata": {},
   "outputs": [],
   "source": [
    "#M-> month end , MS -> month start , A-> year's end "
   ]
  },
  {
   "cell_type": "code",
   "execution_count": 23,
   "id": "f1261879-259d-4bd9-b158-3ecb35ab384b",
   "metadata": {},
   "outputs": [
    {
     "data": {
      "text/plain": [
       "DatetimeIndex(['2025-02-24', '2025-02-25', '2025-02-26', '2025-02-27',\n",
       "               '2025-02-28', '2025-03-03', '2025-03-04', '2025-03-05',\n",
       "               '2025-03-06', '2025-03-07', '2025-03-10', '2025-03-11',\n",
       "               '2025-03-12', '2025-03-13', '2025-03-14', '2025-03-17',\n",
       "               '2025-03-18', '2025-03-19', '2025-03-20', '2025-03-21',\n",
       "               '2025-03-24', '2025-03-25', '2025-03-26', '2025-03-27'],\n",
       "              dtype='datetime64[ns]', freq='B')"
      ]
     },
     "execution_count": 23,
     "metadata": {},
     "output_type": "execute_result"
    }
   ],
   "source": [
    "#using periods (number of results )\n",
    "pd.date_range(start='2025/2/22',periods=24,freq='B')"
   ]
  },
  {
   "cell_type": "markdown",
   "id": "83956174-3141-44b6-a7d1-2af815b6cb35",
   "metadata": {},
   "source": [
    "<h2> to_datetime function </h2>"
   ]
  },
  {
   "cell_type": "code",
   "execution_count": 30,
   "id": "5f3ecb9c-6bc5-4e82-b230-fdc1cb31f554",
   "metadata": {},
   "outputs": [
    {
     "data": {
      "text/plain": [
       "0    2025\n",
       "1    2025\n",
       "2    2025\n",
       "dtype: int64"
      ]
     },
     "execution_count": 30,
     "metadata": {},
     "output_type": "execute_result"
    }
   ],
   "source": [
    "#simple series example \n",
    "\n",
    "s = pd.Series(['2025/2/21','2025/2/22','2025/2/23'])\n",
    "pd.to_datetime(s).dt.year"
   ]
  },
  {
   "cell_type": "code",
   "execution_count": 31,
   "id": "d07f9ad0-2ce1-4c17-919e-20e5ce730596",
   "metadata": {},
   "outputs": [
    {
     "data": {
      "text/plain": [
       "0    February\n",
       "1         NaN\n",
       "2    February\n",
       "dtype: object"
      ]
     },
     "execution_count": 31,
     "metadata": {},
     "output_type": "execute_result"
    }
   ],
   "source": [
    "#with errors \n",
    "s = pd.Series(['2025/2/21','2025/100/22','2025/2/23'])\n",
    "pd.to_datetime(s,errors=\"coerce\").dt.month_name()"
   ]
  },
  {
   "cell_type": "code",
   "execution_count": 34,
   "id": "a6c594fa-8e0e-4258-91c3-7ef97d1cfe45",
   "metadata": {},
   "outputs": [],
   "source": [
    "expense = pd.read_csv('./expense_data.csv')"
   ]
  },
  {
   "cell_type": "code",
   "execution_count": 36,
   "id": "07e1a454-978b-4979-bc4e-bb2d8a3c1ccd",
   "metadata": {},
   "outputs": [
    {
     "name": "stdout",
     "output_type": "stream",
     "text": [
      "<class 'pandas.core.frame.DataFrame'>\n",
      "RangeIndex: 277 entries, 0 to 276\n",
      "Data columns (total 11 columns):\n",
      " #   Column          Non-Null Count  Dtype  \n",
      "---  ------          --------------  -----  \n",
      " 0   Date            277 non-null    object \n",
      " 1   Account         277 non-null    object \n",
      " 2   Category        277 non-null    object \n",
      " 3   Subcategory     0 non-null      float64\n",
      " 4   Note            273 non-null    object \n",
      " 5   INR             277 non-null    float64\n",
      " 6   Income/Expense  277 non-null    object \n",
      " 7   Note.1          0 non-null      float64\n",
      " 8   Amount          277 non-null    float64\n",
      " 9   Currency        277 non-null    object \n",
      " 10  Account.1       277 non-null    float64\n",
      "dtypes: float64(5), object(6)\n",
      "memory usage: 23.9+ KB\n"
     ]
    }
   ],
   "source": [
    "expense.info()"
   ]
  },
  {
   "cell_type": "code",
   "execution_count": 39,
   "id": "f37c4e45-dad3-4431-b7a3-fbcf6d2bcf39",
   "metadata": {},
   "outputs": [],
   "source": [
    "expense['Date'] = pd.to_datetime(expense['Date'])"
   ]
  },
  {
   "cell_type": "code",
   "execution_count": 40,
   "id": "6506f07f-047a-4351-9be2-e6e5f141c94f",
   "metadata": {},
   "outputs": [
    {
     "name": "stdout",
     "output_type": "stream",
     "text": [
      "<class 'pandas.core.frame.DataFrame'>\n",
      "RangeIndex: 277 entries, 0 to 276\n",
      "Data columns (total 11 columns):\n",
      " #   Column          Non-Null Count  Dtype         \n",
      "---  ------          --------------  -----         \n",
      " 0   Date            277 non-null    datetime64[ns]\n",
      " 1   Account         277 non-null    object        \n",
      " 2   Category        277 non-null    object        \n",
      " 3   Subcategory     0 non-null      float64       \n",
      " 4   Note            273 non-null    object        \n",
      " 5   INR             277 non-null    float64       \n",
      " 6   Income/Expense  277 non-null    object        \n",
      " 7   Note.1          0 non-null      float64       \n",
      " 8   Amount          277 non-null    float64       \n",
      " 9   Currency        277 non-null    object        \n",
      " 10  Account.1       277 non-null    float64       \n",
      "dtypes: datetime64[ns](1), float64(5), object(5)\n",
      "memory usage: 23.9+ KB\n"
     ]
    }
   ],
   "source": [
    "expense.info()"
   ]
  },
  {
   "cell_type": "code",
   "execution_count": 44,
   "id": "2152dcbf-db95-4116-ba50-c9114c4210f5",
   "metadata": {},
   "outputs": [
    {
     "data": {
      "text/plain": [
       "[<matplotlib.lines.Line2D at 0x187edfd5b40>]"
      ]
     },
     "execution_count": 44,
     "metadata": {},
     "output_type": "execute_result"
    },
    {
     "data": {
      "image/png": "[encoded data removed]",
      "text/plain": [
       "<Figure size 640x480 with 1 Axes>"
      ]
     },
     "metadata": {},
     "output_type": "display_data"
    }
   ],
   "source": [
    "#plot graph\n",
    "import matplotlib.pyplot as plt \n",
    "plt.plot(expense['Date'],expense['INR'])"
   ]
  },
  {
   "cell_type": "code",
   "execution_count": 46,
   "id": "61faa316-8bbe-459d-847d-175dbac4ab3a",
   "metadata": {},
   "outputs": [],
   "source": [
    "expense['day_name'] = expense['Date'].dt.day_name()"
   ]
  },
  {
   "cell_type": "code",
   "execution_count": 48,
   "id": "9a5374ea-cdcc-45e5-9867-2b1c46225dd5",
   "metadata": {},
   "outputs": [
    {
     "data": {
      "text/plain": [
       "Index(['Date', 'Account', 'Category', 'Subcategory', 'Note', 'INR',\n",
       "       'Income/Expense', 'Note.1', 'Amount', 'Currency', 'Account.1',\n",
       "       'day_name'],\n",
       "      dtype='object')"
      ]
     },
     "execution_count": 48,
     "metadata": {},
     "output_type": "execute_result"
    }
   ],
   "source": [
    "expense.columns"
   ]
  },
  {
   "cell_type": "code",
   "execution_count": 51,
   "id": "d07af07b-98d8-40b8-8394-b825eb01deea",
   "metadata": {},
   "outputs": [
    {
     "data": {
      "text/plain": [
       "<Axes: xlabel='day_name'>"
      ]
     },
     "execution_count": 51,
     "metadata": {},
     "output_type": "execute_result"
    },
    {
     "data": {
      "image/png": "[encoded data removed]",
      "text/plain": [
       "<Figure size 640x480 with 1 Axes>"
      ]
     },
     "metadata": {},
     "output_type": "display_data"
    }
   ],
   "source": [
    "expense.groupby('day_name')['INR'].sum().plot(kind='bar')"
   ]
  },
  {
   "cell_type": "code",
   "execution_count": 52,
   "id": "13c4e84b-b98f-4da0-9513-571dbf74bd38",
   "metadata": {},
   "outputs": [],
   "source": [
    "expense['month_name'] = expense['Date'].dt.month_name()"
   ]
  },
  {
   "cell_type": "code",
   "execution_count": 53,
   "id": "3efd6c36-ab7a-456d-b6b6-23f74c736139",
   "metadata": {},
   "outputs": [
    {
     "data": {
      "text/plain": [
       "Index(['Date', 'Account', 'Category', 'Subcategory', 'Note', 'INR',\n",
       "       'Income/Expense', 'Note.1', 'Amount', 'Currency', 'Account.1',\n",
       "       'day_name', 'month_name'],\n",
       "      dtype='object')"
      ]
     },
     "execution_count": 53,
     "metadata": {},
     "output_type": "execute_result"
    }
   ],
   "source": [
    "expense.columns"
   ]
  },
  {
   "cell_type": "code",
   "execution_count": 55,
   "id": "1b119625-cf8b-48c8-9c87-36011de68bba",
   "metadata": {},
   "outputs": [
    {
     "data": {
      "text/plain": [
       "<Axes: xlabel='month_name'>"
      ]
     },
     "execution_count": 55,
     "metadata": {},
     "output_type": "execute_result"
    },
    {
     "data": {
      "image/png": "[encoded data removed]",
      "text/plain": [
       "<Figure size 640x480 with 1 Axes>"
      ]
     },
     "metadata": {},
     "output_type": "display_data"
    }
   ],
   "source": [
    "expense.groupby('month_name')['INR'].sum().plot(kind='bar')"
   ]
  },
  {
   "cell_type": "code",
   "execution_count": null,
   "id": "e04ec028-47f4-4c17-a8fe-9a3d03858723",
   "metadata": {},
   "outputs": [],
   "source": []
  }
 ],
 "metadata": {
  "kernelspec": {
   "display_name": "Python 3 (ipykernel)",
   "language": "python",
   "name": "python3"
  },
  "language_info": {
   "codemirror_mode": {
    "name": "ipython",
    "version": 3
   },
   "file_extension": ".py",
   "mimetype": "text/x-python",
   "name": "python",
   "nbconvert_exporter": "python",
   "pygments_lexer": "ipython3",
   "version": "3.10.2"
  }
 },
 "nbformat": 4,
 "nbformat_minor": 5
}
