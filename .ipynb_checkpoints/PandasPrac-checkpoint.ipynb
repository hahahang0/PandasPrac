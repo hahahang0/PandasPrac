{
 "cells": [
  {
   "cell_type": "code",
   "execution_count": 1,
   "id": "ee0fa8b2-5f63-479a-8157-1c80b7913168",
   "metadata": {},
   "outputs": [],
   "source": [
    "import numpy as np\n",
    "import pandas as pd "
   ]
  },
  {
   "cell_type": "code",
   "execution_count": 2,
   "id": "4e66298e-15ca-4d1e-938a-434913190975",
   "metadata": {},
   "outputs": [],
   "source": [
    "#SERIES FROM LIST \n"
   ]
  },
  {
   "cell_type": "code",
   "execution_count": 3,
   "id": "9d042623-36eb-41a1-8d39-85792aa0f895",
   "metadata": {},
   "outputs": [
    {
     "data": {
      "text/plain": [
       "0       india\n",
       "1       nepal\n",
       "2    pakistan\n",
       "3         USA\n",
       "4      canada\n",
       "5      russia\n",
       "6       china\n",
       "dtype: object"
      ]
     },
     "execution_count": 3,
     "metadata": {},
     "output_type": "execute_result"
    }
   ],
   "source": [
    "#string\n",
    "country = [\"india\",\"nepal\",\"pakistan\",\"USA\",\"canada\",\"russia\",\"china\"]\n",
    "pd.Series(country)"
   ]
  },
  {
   "cell_type": "code",
   "execution_count": 22,
   "id": "31b50607-848e-4b9c-b70e-2deaa2e6055f",
   "metadata": {},
   "outputs": [],
   "source": [
    "#intger\n",
    "runs = [12,20,33,44,47,74,1,27]\n",
    "runs_series = pd.Series(runs)"
   ]
  },
  {
   "cell_type": "code",
   "execution_count": 5,
   "id": "84839050-1452-4f78-8f91-39af4f0fa102",
   "metadata": {},
   "outputs": [
    {
     "data": {
      "text/plain": [
       "maths       67\n",
       "english     27\n",
       "science     72\n",
       "nepali     127\n",
       "social      83\n",
       "EPH         26\n",
       "dtype: int64"
      ]
     },
     "execution_count": 5,
     "metadata": {},
     "output_type": "execute_result"
    }
   ],
   "source": [
    "marks = [67,27,72,127,83,26]\n",
    "subjects = ['maths','english','science','nepali','social','EPH']\n",
    "pd.Series(marks,index=subjects)"
   ]
  },
  {
   "cell_type": "code",
   "execution_count": 7,
   "id": "cc5cc1f2-5965-4ad2-8460-6dd0df3df077",
   "metadata": {},
   "outputs": [],
   "source": [
    "#SETTING A NAME \n",
    "marks = pd.Series(marks,index=subjects,name=\"hang ko marks\")"
   ]
  },
  {
   "cell_type": "code",
   "execution_count": 8,
   "id": "5eda6583-b9c5-4d79-bc07-f3b9e29110ef",
   "metadata": {},
   "outputs": [
    {
     "data": {
      "text/plain": [
       "maths       67\n",
       "english     27\n",
       "science     72\n",
       "nepali     127\n",
       "social      83\n",
       "EPH         26\n",
       "Name: hang ko marks, dtype: int64"
      ]
     },
     "execution_count": 8,
     "metadata": {},
     "output_type": "execute_result"
    }
   ],
   "source": [
    "marks"
   ]
  },
  {
   "cell_type": "code",
   "execution_count": 9,
   "id": "ff691938-261c-4355-ae40-d98862eca32e",
   "metadata": {},
   "outputs": [],
   "source": [
    "#USING A DICT "
   ]
  },
  {
   "cell_type": "code",
   "execution_count": 12,
   "id": "8a58f3be-e10a-4b39-baf2-bf6db1c3e3d0",
   "metadata": {},
   "outputs": [
    {
     "data": {
      "text/plain": [
       "maths       67\n",
       "english     57\n",
       "science     89\n",
       "hindi      100\n",
       "Name: Hang ko dictionary series, dtype: int64"
      ]
     },
     "execution_count": 12,
     "metadata": {},
     "output_type": "execute_result"
    }
   ],
   "source": [
    "marks = {\n",
    "    'maths' : 67,\n",
    "    'english' : 57,\n",
    "    'science' : 89,\n",
    "    'hindi' : 100\n",
    "}\n",
    "marks_series = pd.Series(marks,name=\"Hang ko dictionary series\")\n",
    "marks_series"
   ]
  },
  {
   "cell_type": "code",
   "execution_count": 15,
   "id": "01a99085-bf9a-4897-ad6a-c9e15e074626",
   "metadata": {},
   "outputs": [
    {
     "data": {
      "text/plain": [
       "4"
      ]
     },
     "execution_count": 15,
     "metadata": {},
     "output_type": "execute_result"
    }
   ],
   "source": [
    "#size\n",
    "marks_series.size"
   ]
  },
  {
   "cell_type": "code",
   "execution_count": 16,
   "id": "30b111bb-afa7-4e96-89c4-a1d829c9b5e7",
   "metadata": {},
   "outputs": [
    {
     "data": {
      "text/plain": [
       "dtype('int64')"
      ]
     },
     "execution_count": 16,
     "metadata": {},
     "output_type": "execute_result"
    }
   ],
   "source": [
    "#dtype\n",
    "marks_series.dtype"
   ]
  },
  {
   "cell_type": "code",
   "execution_count": 17,
   "id": "06884443-f21d-4d93-8df2-bc933d342d8f",
   "metadata": {},
   "outputs": [
    {
     "data": {
      "text/plain": [
       "'Hang ko dictionary series'"
      ]
     },
     "execution_count": 17,
     "metadata": {},
     "output_type": "execute_result"
    }
   ],
   "source": [
    "#name \n",
    "marks_series.name"
   ]
  },
  {
   "cell_type": "code",
   "execution_count": 20,
   "id": "8829d179-bc20-43b5-b40c-e7f949198de5",
   "metadata": {},
   "outputs": [
    {
     "data": {
      "text/plain": [
       "False"
      ]
     },
     "execution_count": 20,
     "metadata": {},
     "output_type": "execute_result"
    }
   ],
   "source": [
    "#is_unique\n",
    "marks_series.is_unique\n",
    "pd.Series([1,2,3,3,3,4,5,6,]).is_unique"
   ]
  },
  {
   "cell_type": "code",
   "execution_count": 21,
   "id": "727d7e59-5909-4f68-912b-4bae992a8c3d",
   "metadata": {},
   "outputs": [
    {
     "data": {
      "text/plain": [
       "Index(['maths', 'english', 'science', 'hindi'], dtype='object')"
      ]
     },
     "execution_count": 21,
     "metadata": {},
     "output_type": "execute_result"
    }
   ],
   "source": [
    "#index \n",
    "marks_series.index\n"
   ]
  },
  {
   "cell_type": "code",
   "execution_count": 26,
   "id": "9b1a4a14-c070-467c-9bac-aefc99069c10",
   "metadata": {},
   "outputs": [
    {
     "data": {
      "text/plain": [
       "RangeIndex(start=0, stop=8, step=1)"
      ]
     },
     "execution_count": 26,
     "metadata": {},
     "output_type": "execute_result"
    }
   ],
   "source": [
    "runs_series.index"
   ]
  },
  {
   "cell_type": "code",
   "execution_count": 29,
   "id": "26facbfe-5a69-436a-bf2d-9bd318cd63e2",
   "metadata": {},
   "outputs": [
    {
     "data": {
      "text/plain": [
       "array([ 67,  57,  89, 100], dtype=int64)"
      ]
     },
     "execution_count": 29,
     "metadata": {},
     "output_type": "execute_result"
    }
   ],
   "source": [
    "#values \n",
    "marks_series.values"
   ]
  },
  {
   "cell_type": "code",
   "execution_count": 30,
   "id": "ba954377-a1fd-4258-a7b5-6cd04c59dd46",
   "metadata": {},
   "outputs": [],
   "source": [
    "#SERIES USING read_csv\n"
   ]
  },
  {
   "cell_type": "code",
   "execution_count": 37,
   "id": "c2408873-da60-4ab5-b263-1bfccf8201ea",
   "metadata": {},
   "outputs": [],
   "source": [
    "#with one col \n",
    "subs = pd.read_csv('./subs.csv').squeeze()"
   ]
  },
  {
   "cell_type": "code",
   "execution_count": 42,
   "id": "fe18e79d-857f-4557-b09c-67b0d1536890",
   "metadata": {},
   "outputs": [
    {
     "data": {
      "text/plain": [
       "0       48\n",
       "1       57\n",
       "2       40\n",
       "3       43\n",
       "4       44\n",
       "      ... \n",
       "360    231\n",
       "361    226\n",
       "362    155\n",
       "363    144\n",
       "364    172\n",
       "Name: Subscribers gained, Length: 365, dtype: int64"
      ]
     },
     "execution_count": 42,
     "metadata": {},
     "output_type": "execute_result"
    }
   ],
   "source": [
    "subs"
   ]
  },
  {
   "cell_type": "code",
   "execution_count": 45,
   "id": "7c5b79a6-ddd0-4f37-aa72-136a8e3fea11",
   "metadata": {},
   "outputs": [],
   "source": [
    "#with 2 cols \n",
    "vk = pd.read_csv('./kohli_ipl.csv',index_col='match_no').squeeze()"
   ]
  },
  {
   "cell_type": "code",
   "execution_count": null,
   "id": "4884cbc0-4397-48d0-9a2a-813c71005381",
   "metadata": {},
   "outputs": [],
   "source": []
  }
 ],
 "metadata": {
  "kernelspec": {
   "display_name": "Python 3 (ipykernel)",
   "language": "python",
   "name": "python3"
  },
  "language_info": {
   "codemirror_mode": {
    "name": "ipython",
    "version": 3
   },
   "file_extension": ".py",
   "mimetype": "text/x-python",
   "name": "python",
   "nbconvert_exporter": "python",
   "pygments_lexer": "ipython3",
   "version": "3.10.2"
  }
 },
 "nbformat": 4,
 "nbformat_minor": 5
}
