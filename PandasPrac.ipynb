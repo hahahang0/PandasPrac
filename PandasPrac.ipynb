{
 "cells": [
  {
   "cell_type": "code",
   "execution_count": 1,
   "id": "ee0fa8b2-5f63-479a-8157-1c80b7913168",
   "metadata": {},
   "outputs": [],
   "source": [
    "import numpy as np\n",
    "import pandas as pd "
   ]
  },
  {
   "cell_type": "code",
   "execution_count": 2,
   "id": "4e66298e-15ca-4d1e-938a-434913190975",
   "metadata": {},
   "outputs": [],
   "source": [
    "#SERIES FROM LIST \n"
   ]
  },
  {
   "cell_type": "code",
   "execution_count": 3,
   "id": "9d042623-36eb-41a1-8d39-85792aa0f895",
   "metadata": {},
   "outputs": [
    {
     "data": {
      "text/plain": [
       "0       india\n",
       "1       nepal\n",
       "2    pakistan\n",
       "3         USA\n",
       "4      canada\n",
       "5      russia\n",
       "6       china\n",
       "dtype: object"
      ]
     },
     "execution_count": 3,
     "metadata": {},
     "output_type": "execute_result"
    }
   ],
   "source": [
    "#string\n",
    "country = [\"india\",\"nepal\",\"pakistan\",\"USA\",\"canada\",\"russia\",\"china\"]\n",
    "pd.Series(country)"
   ]
  },
  {
   "cell_type": "code",
   "execution_count": 4,
   "id": "31b50607-848e-4b9c-b70e-2deaa2e6055f",
   "metadata": {},
   "outputs": [],
   "source": [
    "#intger\n",
    "runs = [12,20,33,44,47,74,1,27]\n",
    "runs_series = pd.Series(runs)"
   ]
  },
  {
   "cell_type": "code",
   "execution_count": 5,
   "id": "84839050-1452-4f78-8f91-39af4f0fa102",
   "metadata": {},
   "outputs": [
    {
     "data": {
      "text/plain": [
       "maths       67\n",
       "english     27\n",
       "science     72\n",
       "nepali     127\n",
       "social      83\n",
       "EPH         26\n",
       "dtype: int64"
      ]
     },
     "execution_count": 5,
     "metadata": {},
     "output_type": "execute_result"
    }
   ],
   "source": [
    "marks = [67,27,72,127,83,26]\n",
    "subjects = ['maths','english','science','nepali','social','EPH']\n",
    "pd.Series(marks,index=subjects)"
   ]
  },
  {
   "cell_type": "code",
   "execution_count": 6,
   "id": "cc5cc1f2-5965-4ad2-8460-6dd0df3df077",
   "metadata": {},
   "outputs": [],
   "source": [
    "#SETTING A NAME \n",
    "marks = pd.Series(marks,index=subjects,name=\"hang ko marks\")"
   ]
  },
  {
   "cell_type": "code",
   "execution_count": 7,
   "id": "5eda6583-b9c5-4d79-bc07-f3b9e29110ef",
   "metadata": {},
   "outputs": [
    {
     "data": {
      "text/plain": [
       "maths       67\n",
       "english     27\n",
       "science     72\n",
       "nepali     127\n",
       "social      83\n",
       "EPH         26\n",
       "Name: hang ko marks, dtype: int64"
      ]
     },
     "execution_count": 7,
     "metadata": {},
     "output_type": "execute_result"
    }
   ],
   "source": [
    "marks"
   ]
  },
  {
   "cell_type": "code",
   "execution_count": 8,
   "id": "ff691938-261c-4355-ae40-d98862eca32e",
   "metadata": {},
   "outputs": [],
   "source": [
    "#USING A DICT "
   ]
  },
  {
   "cell_type": "code",
   "execution_count": 9,
   "id": "8a58f3be-e10a-4b39-baf2-bf6db1c3e3d0",
   "metadata": {},
   "outputs": [
    {
     "data": {
      "text/plain": [
       "maths       67\n",
       "english     57\n",
       "science     89\n",
       "hindi      100\n",
       "Name: Hang ko dictionary series, dtype: int64"
      ]
     },
     "execution_count": 9,
     "metadata": {},
     "output_type": "execute_result"
    }
   ],
   "source": [
    "marks = {\n",
    "    'maths' : 67,\n",
    "    'english' : 57,\n",
    "    'science' : 89,\n",
    "    'hindi' : 100\n",
    "}\n",
    "marks_series = pd.Series(marks,name=\"Hang ko dictionary series\")\n",
    "marks_series"
   ]
  },
  {
   "cell_type": "code",
   "execution_count": 10,
   "id": "01a99085-bf9a-4897-ad6a-c9e15e074626",
   "metadata": {},
   "outputs": [
    {
     "data": {
      "text/plain": [
       "4"
      ]
     },
     "execution_count": 10,
     "metadata": {},
     "output_type": "execute_result"
    }
   ],
   "source": [
    "#size\n",
    "marks_series.size"
   ]
  },
  {
   "cell_type": "code",
   "execution_count": 11,
   "id": "30b111bb-afa7-4e96-89c4-a1d829c9b5e7",
   "metadata": {},
   "outputs": [
    {
     "data": {
      "text/plain": [
       "dtype('int64')"
      ]
     },
     "execution_count": 11,
     "metadata": {},
     "output_type": "execute_result"
    }
   ],
   "source": [
    "#dtype\n",
    "marks_series.dtype"
   ]
  },
  {
   "cell_type": "code",
   "execution_count": 12,
   "id": "06884443-f21d-4d93-8df2-bc933d342d8f",
   "metadata": {},
   "outputs": [
    {
     "data": {
      "text/plain": [
       "'Hang ko dictionary series'"
      ]
     },
     "execution_count": 12,
     "metadata": {},
     "output_type": "execute_result"
    }
   ],
   "source": [
    "#name \n",
    "marks_series.name"
   ]
  },
  {
   "cell_type": "code",
   "execution_count": 13,
   "id": "8829d179-bc20-43b5-b40c-e7f949198de5",
   "metadata": {},
   "outputs": [
    {
     "data": {
      "text/plain": [
       "False"
      ]
     },
     "execution_count": 13,
     "metadata": {},
     "output_type": "execute_result"
    }
   ],
   "source": [
    "#is_unique\n",
    "marks_series.is_unique\n",
    "pd.Series([1,2,3,3,3,4,5,6,]).is_unique"
   ]
  },
  {
   "cell_type": "code",
   "execution_count": 14,
   "id": "727d7e59-5909-4f68-912b-4bae992a8c3d",
   "metadata": {},
   "outputs": [
    {
     "data": {
      "text/plain": [
       "Index(['maths', 'english', 'science', 'hindi'], dtype='object')"
      ]
     },
     "execution_count": 14,
     "metadata": {},
     "output_type": "execute_result"
    }
   ],
   "source": [
    "#index \n",
    "marks_series.index\n"
   ]
  },
  {
   "cell_type": "code",
   "execution_count": 15,
   "id": "9b1a4a14-c070-467c-9bac-aefc99069c10",
   "metadata": {},
   "outputs": [
    {
     "data": {
      "text/plain": [
       "RangeIndex(start=0, stop=8, step=1)"
      ]
     },
     "execution_count": 15,
     "metadata": {},
     "output_type": "execute_result"
    }
   ],
   "source": [
    "runs_series.index"
   ]
  },
  {
   "cell_type": "code",
   "execution_count": 16,
   "id": "26facbfe-5a69-436a-bf2d-9bd318cd63e2",
   "metadata": {},
   "outputs": [
    {
     "data": {
      "text/plain": [
       "array([ 67,  57,  89, 100], dtype=int64)"
      ]
     },
     "execution_count": 16,
     "metadata": {},
     "output_type": "execute_result"
    }
   ],
   "source": [
    "#values \n",
    "marks_series.values"
   ]
  },
  {
   "cell_type": "code",
   "execution_count": 17,
   "id": "ba954377-a1fd-4258-a7b5-6cd04c59dd46",
   "metadata": {},
   "outputs": [],
   "source": [
    "#SERIES USING read_csv\n"
   ]
  },
  {
   "cell_type": "code",
   "execution_count": 18,
   "id": "c2408873-da60-4ab5-b263-1bfccf8201ea",
   "metadata": {},
   "outputs": [],
   "source": [
    "#with one col \n",
    "subs = pd.read_csv('./subs.csv').squeeze()"
   ]
  },
  {
   "cell_type": "code",
   "execution_count": 19,
   "id": "fe18e79d-857f-4557-b09c-67b0d1536890",
   "metadata": {},
   "outputs": [
    {
     "data": {
      "text/plain": [
       "0       48\n",
       "1       57\n",
       "2       40\n",
       "3       43\n",
       "4       44\n",
       "      ... \n",
       "360    231\n",
       "361    226\n",
       "362    155\n",
       "363    144\n",
       "364    172\n",
       "Name: Subscribers gained, Length: 365, dtype: int64"
      ]
     },
     "execution_count": 19,
     "metadata": {},
     "output_type": "execute_result"
    }
   ],
   "source": [
    "subs"
   ]
  },
  {
   "cell_type": "code",
   "execution_count": 20,
   "id": "7c5b79a6-ddd0-4f37-aa72-136a8e3fea11",
   "metadata": {},
   "outputs": [],
   "source": [
    "#with 2 cols \n",
    "vk = pd.read_csv('./kohli_ipl.csv',index_col='match_no').squeeze()"
   ]
  },
  {
   "cell_type": "code",
   "execution_count": 21,
   "id": "4884cbc0-4397-48d0-9a2a-813c71005381",
   "metadata": {},
   "outputs": [],
   "source": [
    "movies = pd.read_csv('./bollywood.csv',index_col='movie').squeeze()"
   ]
  },
  {
   "cell_type": "code",
   "execution_count": 22,
   "id": "ca9d5540-94e8-42a0-82b1-ba751708f6ab",
   "metadata": {},
   "outputs": [
    {
     "data": {
      "text/plain": [
       "movie\n",
       "Uri: The Surgical Strike                   Vicky Kaushal\n",
       "Battalion 609                                Vicky Ahuja\n",
       "The Accidental Prime Minister (film)         Anupam Kher\n",
       "Why Cheat India                            Emraan Hashmi\n",
       "Evening Shadows                         Mona Ambegaonkar\n",
       "                                              ...       \n",
       "Hum Tumhare Hain Sanam                    Shah Rukh Khan\n",
       "Aankhen (2002 film)                     Amitabh Bachchan\n",
       "Saathiya (film)                             Vivek Oberoi\n",
       "Company (film)                                Ajay Devgn\n",
       "Awara Paagal Deewana                        Akshay Kumar\n",
       "Name: lead, Length: 1500, dtype: object"
      ]
     },
     "execution_count": 22,
     "metadata": {},
     "output_type": "execute_result"
    }
   ],
   "source": [
    "movies "
   ]
  },
  {
   "cell_type": "code",
   "execution_count": 23,
   "id": "dec728bc-95c1-4831-bead-83a389bc0646",
   "metadata": {},
   "outputs": [],
   "source": [
    "#series method"
   ]
  },
  {
   "cell_type": "code",
   "execution_count": 24,
   "id": "7c6d8260-320c-49c2-b9c5-befe26663713",
   "metadata": {},
   "outputs": [
    {
     "data": {
      "text/plain": [
       "match_no\n",
       "1     1\n",
       "2    23\n",
       "3    13\n",
       "4    12\n",
       "5     1\n",
       "Name: runs, dtype: int64"
      ]
     },
     "execution_count": 24,
     "metadata": {},
     "output_type": "execute_result"
    }
   ],
   "source": [
    "#head and tail \n",
    "vk.head(\n",
    ")"
   ]
  },
  {
   "cell_type": "code",
   "execution_count": 25,
   "id": "05a7fe07-246b-41ad-b655-b241a452f6ff",
   "metadata": {},
   "outputs": [
    {
     "data": {
      "text/plain": [
       "match_no\n",
       "211     0\n",
       "212    20\n",
       "213    73\n",
       "214    25\n",
       "215     7\n",
       "Name: runs, dtype: int64"
      ]
     },
     "execution_count": 25,
     "metadata": {},
     "output_type": "execute_result"
    }
   ],
   "source": [
    "vk.tail()"
   ]
  },
  {
   "cell_type": "code",
   "execution_count": 26,
   "id": "bd7df5cb-b298-49c1-8390-39e53038d8c7",
   "metadata": {},
   "outputs": [
    {
     "data": {
      "text/plain": [
       "movie\n",
       "D (film)                     Randeep Hooda\n",
       "Hichki                        Rani Mukerji\n",
       "Life in a... Metro              Dharmendra\n",
       "Bajrangi Bhaijaan              Salman Khan\n",
       "LOC Kargil                     Sanjay Dutt\n",
       "Dum (2003 Hindi film)         Vivek Oberoi\n",
       "Mard Ko Dard Nahi Hota    Abhimanyu Dasani\n",
       "Shaadi Se Pehle             Akshaye Khanna\n",
       "The Japanese Wife               Rahul Bose\n",
       "Acid Factory                  Fardeen Khan\n",
       "Name: lead, dtype: object"
      ]
     },
     "execution_count": 26,
     "metadata": {},
     "output_type": "execute_result"
    }
   ],
   "source": [
    "#sample \n",
    "movies.sample(10)"
   ]
  },
  {
   "cell_type": "code",
   "execution_count": 27,
   "id": "99aed07c-0cdd-4faf-bb57-8f55aac77610",
   "metadata": {},
   "outputs": [
    {
     "data": {
      "text/plain": [
       "Akshay Kumar        48\n",
       "Amitabh Bachchan    45\n",
       "Ajay Devgn          38\n",
       "Salman Khan         31\n",
       "Sanjay Dutt         26\n",
       "                    ..\n",
       "Diganth              1\n",
       "Parveen Kaur         1\n",
       "Seema Azmi           1\n",
       "Akanksha Puri        1\n",
       "Edwin Fernandes      1\n",
       "Name: lead, Length: 566, dtype: int64"
      ]
     },
     "execution_count": 27,
     "metadata": {},
     "output_type": "execute_result"
    }
   ],
   "source": [
    "#value counts \n",
    "movies.value_counts()"
   ]
  },
  {
   "cell_type": "code",
   "execution_count": 28,
   "id": "1abea725-9d0c-4882-bc9f-385663392dc3",
   "metadata": {},
   "outputs": [
    {
     "data": {
      "text/plain": [
       "match_no\n",
       "128    113\n",
       "126    109\n",
       "123    108\n",
       "164    100\n",
       "120    100\n",
       "      ... \n",
       "93       0\n",
       "211      0\n",
       "130      0\n",
       "8        0\n",
       "135      0\n",
       "Name: runs, Length: 215, dtype: int64"
      ]
     },
     "execution_count": 28,
     "metadata": {},
     "output_type": "execute_result"
    }
   ],
   "source": [
    "#sort_values \n",
    "vk.sort_values(ascending=False)"
   ]
  },
  {
   "cell_type": "code",
   "execution_count": 29,
   "id": "4ed2303d-2cc5-45a3-8732-ab558f8d1854",
   "metadata": {},
   "outputs": [
    {
     "data": {
      "text/plain": [
       "movie\n",
       "Zor Lagaa Ke...Haiya!            Meghan Jadhav\n",
       "Zokkomon                       Darsheel Safary\n",
       "Zindagi Tere Naam           Mithun Chakraborty\n",
       "Zindagi Na Milegi Dobara        Hrithik Roshan\n",
       "Zindagi 50-50                      Veena Malik\n",
       "                                   ...        \n",
       "2 States (2014 film)              Arjun Kapoor\n",
       "1971 (2007 film)                Manoj Bajpayee\n",
       "1920: The Evil Returns             Vicky Ahuja\n",
       "1920: London                     Sharman Joshi\n",
       "1920 (film)                   Rajniesh Duggall\n",
       "Name: lead, Length: 1500, dtype: object"
      ]
     },
     "execution_count": 29,
     "metadata": {},
     "output_type": "execute_result"
    }
   ],
   "source": [
    "#sort_index\n",
    "movies.sort_index(ascending=False)"
   ]
  },
  {
   "cell_type": "code",
   "execution_count": 30,
   "id": "8b958026-f622-4707-b7e3-50a2f1b548cb",
   "metadata": {},
   "outputs": [],
   "source": [
    "#count--> does not count null values  and size-->counts null values  "
   ]
  },
  {
   "cell_type": "code",
   "execution_count": 31,
   "id": "4a4f9d67-39f7-4ea2-b469-9da3339530bb",
   "metadata": {},
   "outputs": [
    {
     "data": {
      "text/plain": [
       "49510"
      ]
     },
     "execution_count": 31,
     "metadata": {},
     "output_type": "execute_result"
    }
   ],
   "source": [
    "#sum\n",
    "subs.sum()"
   ]
  },
  {
   "cell_type": "code",
   "execution_count": 32,
   "id": "9f6ae95e-9203-4665-ad7e-6a8584c6de77",
   "metadata": {},
   "outputs": [
    {
     "data": {
      "text/plain": [
       "0"
      ]
     },
     "execution_count": 32,
     "metadata": {},
     "output_type": "execute_result"
    }
   ],
   "source": [
    "#product\n",
    "subs.product()"
   ]
  },
  {
   "cell_type": "code",
   "execution_count": 33,
   "id": "bf96d3df-ef89-4160-99dc-c87f73b6d07c",
   "metadata": {},
   "outputs": [
    {
     "data": {
      "text/plain": [
       "0    0\n",
       "Name: runs, dtype: int64"
      ]
     },
     "execution_count": 33,
     "metadata": {},
     "output_type": "execute_result"
    }
   ],
   "source": [
    "#mean ->median -> mode -> std -> var\n",
    "vk.mode()"
   ]
  },
  {
   "cell_type": "code",
   "execution_count": 34,
   "id": "3bea0e68-87de-4255-ba3e-a9e840e88deb",
   "metadata": {},
   "outputs": [
    {
     "name": "stdout",
     "output_type": "stream",
     "text": [
      "0    Akshay Kumar\n",
      "Name: lead, dtype: object\n",
      "3928.1585127201565\n"
     ]
    }
   ],
   "source": [
    "print(movies.mode())\n",
    "print(subs.var())"
   ]
  },
  {
   "cell_type": "code",
   "execution_count": 35,
   "id": "8eb02e50-a25f-4a38-8a64-84d98c871cc2",
   "metadata": {},
   "outputs": [
    {
     "name": "stdout",
     "output_type": "stream",
     "text": [
      "396\n"
     ]
    }
   ],
   "source": [
    "#min/max\n",
    "subs.min()\n",
    "print(subs.max())"
   ]
  },
  {
   "cell_type": "code",
   "execution_count": 36,
   "id": "284847b5-1340-4bbb-bdc7-8df92298a2fd",
   "metadata": {},
   "outputs": [
    {
     "name": "stdout",
     "output_type": "stream",
     "text": [
      "count             1500\n",
      "unique             566\n",
      "top       Akshay Kumar\n",
      "freq                48\n",
      "Name: lead, dtype: object\n"
     ]
    }
   ],
   "source": [
    "#describe \n",
    "print(movies.describe())"
   ]
  },
  {
   "cell_type": "code",
   "execution_count": 37,
   "id": "21e5b3b7-04ac-4442-ad0c-98415cad5894",
   "metadata": {},
   "outputs": [],
   "source": [
    "#SERIES INDEXING "
   ]
  },
  {
   "cell_type": "code",
   "execution_count": 38,
   "id": "288f7470-0eda-46f0-a197-4b1f036b2964",
   "metadata": {},
   "outputs": [
    {
     "name": "stdout",
     "output_type": "stream",
     "text": [
      "82\n"
     ]
    }
   ],
   "source": [
    "x = pd.Series([12,215,16,16,72,16,7,1,28,71,82])\n",
    "print(x[10])"
   ]
  },
  {
   "cell_type": "code",
   "execution_count": 39,
   "id": "e5dd3c0c-9e78-4664-94b8-b7636cbd53fa",
   "metadata": {},
   "outputs": [
    {
     "data": {
      "text/plain": [
       "movie\n",
       "Uri: The Surgical Strike                   Vicky Kaushal\n",
       "Battalion 609                                Vicky Ahuja\n",
       "The Accidental Prime Minister (film)         Anupam Kher\n",
       "Why Cheat India                            Emraan Hashmi\n",
       "Evening Shadows                         Mona Ambegaonkar\n",
       "                                              ...       \n",
       "Hum Tumhare Hain Sanam                    Shah Rukh Khan\n",
       "Aankhen (2002 film)                     Amitabh Bachchan\n",
       "Saathiya (film)                             Vivek Oberoi\n",
       "Company (film)                                Ajay Devgn\n",
       "Awara Paagal Deewana                        Akshay Kumar\n",
       "Name: lead, Length: 1500, dtype: object"
      ]
     },
     "execution_count": 39,
     "metadata": {},
     "output_type": "execute_result"
    }
   ],
   "source": [
    "movies"
   ]
  },
  {
   "cell_type": "code",
   "execution_count": 40,
   "id": "07b300d7-e74a-4f26-9ddd-688c141f129c",
   "metadata": {},
   "outputs": [],
   "source": [
    "# movies[-1]"
   ]
  },
  {
   "cell_type": "code",
   "execution_count": 41,
   "id": "8c526647-e579-4269-9553-321b060ff3f5",
   "metadata": {},
   "outputs": [
    {
     "data": {
      "text/plain": [
       "match_no\n",
       "1       1\n",
       "2      23\n",
       "3      13\n",
       "4      12\n",
       "5       1\n",
       "       ..\n",
       "211     0\n",
       "212    20\n",
       "213    73\n",
       "214    25\n",
       "215     7\n",
       "Name: runs, Length: 215, dtype: int64"
      ]
     },
     "execution_count": 41,
     "metadata": {},
     "output_type": "execute_result"
    }
   ],
   "source": [
    "vk"
   ]
  },
  {
   "cell_type": "code",
   "execution_count": null,
   "id": "73feb96f-643c-4ab9-821b-84249739c903",
   "metadata": {},
   "outputs": [],
   "source": []
  },
  {
   "cell_type": "code",
   "execution_count": 42,
   "id": "bdbb3659-2ab1-43ed-89d8-fdaef638f083",
   "metadata": {},
   "outputs": [
    {
     "data": {
      "text/plain": [
       "movie\n",
       "Battalion 609                           Vicky Ahuja\n",
       "The Accidental Prime Minister (film)    Anupam Kher\n",
       "Name: lead, dtype: object"
      ]
     },
     "execution_count": 42,
     "metadata": {},
     "output_type": "execute_result"
    }
   ],
   "source": [
    "#slicing \n",
    "movies[1:3]\n"
   ]
  },
  {
   "cell_type": "code",
   "execution_count": 43,
   "id": "3b3c5ef7-415a-4158-89e7-71cf17e67729",
   "metadata": {},
   "outputs": [
    {
     "data": {
      "text/plain": [
       "movie\n",
       "Hum Tumhare Hain Sanam      Shah Rukh Khan\n",
       "Aankhen (2002 film)       Amitabh Bachchan\n",
       "Saathiya (film)               Vivek Oberoi\n",
       "Company (film)                  Ajay Devgn\n",
       "Awara Paagal Deewana          Akshay Kumar\n",
       "Name: lead, dtype: object"
      ]
     },
     "execution_count": 43,
     "metadata": {},
     "output_type": "execute_result"
    }
   ],
   "source": [
    "movies[-5:]"
   ]
  },
  {
   "cell_type": "code",
   "execution_count": 44,
   "id": "12631ab4-ee50-481d-a11b-e22ac774a0cd",
   "metadata": {},
   "outputs": [
    {
     "data": {
      "text/plain": [
       "15"
      ]
     },
     "execution_count": 44,
     "metadata": {},
     "output_type": "execute_result"
    }
   ],
   "source": [
    "movies[::100].count()"
   ]
  },
  {
   "cell_type": "code",
   "execution_count": 45,
   "id": "e3d56a00-3e40-4045-ba77-a4b2e8c5d1c2",
   "metadata": {},
   "outputs": [
    {
     "data": {
      "text/plain": [
       "match_no\n",
       "1     1\n",
       "2    23\n",
       "4    12\n",
       "6     9\n",
       "7    34\n",
       "Name: runs, dtype: int64"
      ]
     },
     "execution_count": 45,
     "metadata": {},
     "output_type": "execute_result"
    }
   ],
   "source": [
    "#FANCY INDEXING\n",
    "vk[[1,2,4,6,7]]"
   ]
  },
  {
   "cell_type": "code",
   "execution_count": 46,
   "id": "9dae2d40-80ac-456f-a3ca-ce37c0f14df3",
   "metadata": {},
   "outputs": [
    {
     "data": {
      "text/plain": [
       "'Mona Ambegaonkar'"
      ]
     },
     "execution_count": 46,
     "metadata": {},
     "output_type": "execute_result"
    }
   ],
   "source": [
    "#indexing with labels \n",
    "movies['Evening Shadows']"
   ]
  },
  {
   "cell_type": "code",
   "execution_count": 47,
   "id": "fe92d8e8-7627-4a2a-9871-ab5290176c70",
   "metadata": {},
   "outputs": [],
   "source": [
    "#EDITING SERIES"
   ]
  },
  {
   "cell_type": "code",
   "execution_count": 48,
   "id": "417b5cb0-d9e6-4331-b763-8d068c2afb50",
   "metadata": {},
   "outputs": [],
   "source": [
    "# marks_series[1] = 100"
   ]
  },
  {
   "cell_type": "code",
   "execution_count": 49,
   "id": "25b59d20-afcb-4277-be7f-fb451d24c2cc",
   "metadata": {},
   "outputs": [
    {
     "data": {
      "text/plain": [
       "maths       67\n",
       "english     57\n",
       "science     89\n",
       "hindi      100\n",
       "Name: Hang ko dictionary series, dtype: int64"
      ]
     },
     "execution_count": 49,
     "metadata": {},
     "output_type": "execute_result"
    }
   ],
   "source": [
    "marks_series"
   ]
  },
  {
   "cell_type": "code",
   "execution_count": 50,
   "id": "ea43d415-28e9-45ae-8af4-7d727221427f",
   "metadata": {},
   "outputs": [],
   "source": [
    "#what if index does not exists \n",
    "marks_series['sst'] =80"
   ]
  },
  {
   "cell_type": "code",
   "execution_count": 51,
   "id": "7ccc6d1a-c067-45eb-8c00-385b38da2cfd",
   "metadata": {},
   "outputs": [
    {
     "data": {
      "text/plain": [
       "maths       67\n",
       "english     57\n",
       "science     89\n",
       "hindi      100\n",
       "sst         80\n",
       "Name: Hang ko dictionary series, dtype: int64"
      ]
     },
     "execution_count": 51,
     "metadata": {},
     "output_type": "execute_result"
    }
   ],
   "source": [
    "marks_series"
   ]
  },
  {
   "cell_type": "code",
   "execution_count": 52,
   "id": "a59ed191-9c31-4a1b-86a0-c688935d19e6",
   "metadata": {},
   "outputs": [
    {
     "data": {
      "text/plain": [
       "0    12\n",
       "1    20\n",
       "2    33\n",
       "3    44\n",
       "4    47\n",
       "5    74\n",
       "6     1\n",
       "7    27\n",
       "dtype: int64"
      ]
     },
     "execution_count": 52,
     "metadata": {},
     "output_type": "execute_result"
    }
   ],
   "source": [
    "runs_series"
   ]
  },
  {
   "cell_type": "code",
   "execution_count": 53,
   "id": "effeadfd-3bdf-454e-b5c0-0ed9102e111c",
   "metadata": {},
   "outputs": [],
   "source": [
    "#multiple editing \n",
    "runs_series[2:4] = [100,100]"
   ]
  },
  {
   "cell_type": "code",
   "execution_count": 54,
   "id": "73bb83c7-80d9-4881-bf76-c2ca700fb7cc",
   "metadata": {},
   "outputs": [
    {
     "data": {
      "text/plain": [
       "0     12\n",
       "1     20\n",
       "2    100\n",
       "3    100\n",
       "4     47\n",
       "5     74\n",
       "6      1\n",
       "7     27\n",
       "dtype: int64"
      ]
     },
     "execution_count": 54,
     "metadata": {},
     "output_type": "execute_result"
    }
   ],
   "source": [
    "runs_series"
   ]
  },
  {
   "cell_type": "code",
   "execution_count": 55,
   "id": "f49b1900-3389-4502-9ade-7d4226c974f1",
   "metadata": {},
   "outputs": [],
   "source": [
    "#using fancy indexing "
   ]
  },
  {
   "cell_type": "code",
   "execution_count": 56,
   "id": "f00a5e52-c3d4-4d28-9c6c-f775cd25b912",
   "metadata": {},
   "outputs": [],
   "source": [
    "runs_series[[1,2,3]] = [0,0,0]"
   ]
  },
  {
   "cell_type": "code",
   "execution_count": 57,
   "id": "52e8de45-cd3f-437d-9e59-62814abf3904",
   "metadata": {},
   "outputs": [
    {
     "data": {
      "text/plain": [
       "0    12\n",
       "1     0\n",
       "2     0\n",
       "3     0\n",
       "4    47\n",
       "5    74\n",
       "6     1\n",
       "7    27\n",
       "dtype: int64"
      ]
     },
     "execution_count": 57,
     "metadata": {},
     "output_type": "execute_result"
    }
   ],
   "source": [
    "runs_series"
   ]
  },
  {
   "cell_type": "code",
   "execution_count": 58,
   "id": "2605ee0b-240d-4df9-8411-e8239c67cdc6",
   "metadata": {},
   "outputs": [
    {
     "data": {
      "text/plain": [
       "movie\n",
       "Uri: The Surgical Strike                   Vicky Kaushal\n",
       "Battalion 609                                Vicky Ahuja\n",
       "The Accidental Prime Minister (film)         Anupam Kher\n",
       "Why Cheat India                            Emraan Hashmi\n",
       "Evening Shadows                         Mona Ambegaonkar\n",
       "                                              ...       \n",
       "Hum Tumhare Hain Sanam                    Shah Rukh Khan\n",
       "Aankhen (2002 film)                     Amitabh Bachchan\n",
       "Saathiya (film)                             Vivek Oberoi\n",
       "Company (film)                                Ajay Devgn\n",
       "Awara Paagal Deewana                        Akshay Kumar\n",
       "Name: lead, Length: 1500, dtype: object"
      ]
     },
     "execution_count": 58,
     "metadata": {},
     "output_type": "execute_result"
    }
   ],
   "source": [
    "movies"
   ]
  },
  {
   "cell_type": "code",
   "execution_count": 59,
   "id": "a026aaca-4e9c-4c7b-a3d6-53a25137f0d7",
   "metadata": {},
   "outputs": [],
   "source": [
    "#you can also use index label ! \n"
   ]
  },
  {
   "cell_type": "code",
   "execution_count": 60,
   "id": "70ed5ac8-9ff9-459b-aeb8-7d505c0950a3",
   "metadata": {},
   "outputs": [
    {
     "name": "stdout",
     "output_type": "stream",
     "text": [
      "365\n",
      "<class 'pandas.core.series.Series'>\n",
      "33\n",
      "396\n"
     ]
    }
   ],
   "source": [
    "#series with python functionality\n",
    "print(len(subs))\n",
    "print(type(subs))\n",
    "#print(dir(subs))\n",
    "#print(sorted(subs))\n",
    "print(min(subs))\n",
    "print(max(subs))"
   ]
  },
  {
   "cell_type": "code",
   "execution_count": 61,
   "id": "02178497-945a-4f67-8fb1-3abc244a9235",
   "metadata": {},
   "outputs": [
    {
     "data": {
      "text/plain": [
       "maths       67\n",
       "english     57\n",
       "science     89\n",
       "hindi      100\n",
       "sst         80\n",
       "Name: Hang ko dictionary series, dtype: int64"
      ]
     },
     "execution_count": 61,
     "metadata": {},
     "output_type": "execute_result"
    }
   ],
   "source": [
    "#typeconversion \n",
    "marks_series"
   ]
  },
  {
   "cell_type": "code",
   "execution_count": 62,
   "id": "17e8ae43-0759-4d51-8ec5-d68dd5febb19",
   "metadata": {},
   "outputs": [
    {
     "data": {
      "text/plain": [
       "[67, 57, 89, 100, 80]"
      ]
     },
     "execution_count": 62,
     "metadata": {},
     "output_type": "execute_result"
    }
   ],
   "source": [
    "list(marks_series)"
   ]
  },
  {
   "cell_type": "code",
   "execution_count": 63,
   "id": "7b3960f7-2c77-4aad-ac99-8c7f46ec2c03",
   "metadata": {},
   "outputs": [
    {
     "data": {
      "text/plain": [
       "{'maths': 67, 'english': 57, 'science': 89, 'hindi': 100, 'sst': 80}"
      ]
     },
     "execution_count": 63,
     "metadata": {},
     "output_type": "execute_result"
    }
   ],
   "source": [
    "dict(marks_series)"
   ]
  },
  {
   "cell_type": "code",
   "execution_count": 64,
   "id": "d20ab55d-5d92-40ae-a4ca-8c5716e7774b",
   "metadata": {},
   "outputs": [],
   "source": [
    "#membership operator\n",
    "movies.sort_index(inplace=True)"
   ]
  },
  {
   "cell_type": "code",
   "execution_count": 65,
   "id": "d9396575-6013-49c4-bd82-501b3ba452ab",
   "metadata": {},
   "outputs": [
    {
     "data": {
      "text/plain": [
       "movie\n",
       "1920 (film)                   Rajniesh Duggall\n",
       "1920: London                     Sharman Joshi\n",
       "1920: The Evil Returns             Vicky Ahuja\n",
       "1971 (2007 film)                Manoj Bajpayee\n",
       "2 States (2014 film)              Arjun Kapoor\n",
       "                                   ...        \n",
       "Zindagi 50-50                      Veena Malik\n",
       "Zindagi Na Milegi Dobara        Hrithik Roshan\n",
       "Zindagi Tere Naam           Mithun Chakraborty\n",
       "Zokkomon                       Darsheel Safary\n",
       "Zor Lagaa Ke...Haiya!            Meghan Jadhav\n",
       "Name: lead, Length: 1500, dtype: object"
      ]
     },
     "execution_count": 65,
     "metadata": {},
     "output_type": "execute_result"
    }
   ],
   "source": [
    "movies"
   ]
  },
  {
   "cell_type": "code",
   "execution_count": 66,
   "id": "3f9fd3dd-c979-464d-afc0-9ee824b33efb",
   "metadata": {},
   "outputs": [
    {
     "data": {
      "text/plain": [
       "True"
      ]
     },
     "execution_count": 66,
     "metadata": {},
     "output_type": "execute_result"
    }
   ],
   "source": [
    "\"2 States (2014 film)\" in movies"
   ]
  },
  {
   "cell_type": "code",
   "execution_count": 67,
   "id": "62e64e20-bc51-489b-974d-b37bac1108be",
   "metadata": {},
   "outputs": [
    {
     "data": {
      "text/plain": [
       "False"
      ]
     },
     "execution_count": 67,
     "metadata": {},
     "output_type": "execute_result"
    }
   ],
   "source": [
    "\"Veena Malik\" in movies"
   ]
  },
  {
   "cell_type": "code",
   "execution_count": 68,
   "id": "193c0b1f-4510-4540-9258-9bb3f26a4d8e",
   "metadata": {},
   "outputs": [],
   "source": [
    "# for i in movies:\n",
    "#     print(i)"
   ]
  },
  {
   "cell_type": "code",
   "execution_count": 69,
   "id": "ce33f99f-23bb-444c-b0cf-c4273d4762fb",
   "metadata": {},
   "outputs": [
    {
     "data": {
      "text/plain": [
       "maths      33\n",
       "english    43\n",
       "science    11\n",
       "hindi       0\n",
       "sst        20\n",
       "Name: Hang ko dictionary series, dtype: int64"
      ]
     },
     "execution_count": 69,
     "metadata": {},
     "output_type": "execute_result"
    }
   ],
   "source": [
    "#Arithmetic operators \n",
    "100 - marks_series"
   ]
  },
  {
   "cell_type": "code",
   "execution_count": 70,
   "id": "945d1bb1-1492-4320-ba3a-3201640a06ff",
   "metadata": {},
   "outputs": [
    {
     "data": {
      "text/plain": [
       "maths      67\n",
       "english    57\n",
       "science    89\n",
       "sst        80\n",
       "Name: Hang ko dictionary series, dtype: int64"
      ]
     },
     "execution_count": 70,
     "metadata": {},
     "output_type": "execute_result"
    }
   ],
   "source": [
    "#relational operators \n",
    "marks_series[marks_series < 100]"
   ]
  },
  {
   "cell_type": "code",
   "execution_count": 71,
   "id": "96035983-9f04-4903-9964-67ae5b2fad69",
   "metadata": {},
   "outputs": [
    {
     "data": {
      "text/plain": [
       "match_no\n",
       "1      False\n",
       "2      False\n",
       "3      False\n",
       "4      False\n",
       "5      False\n",
       "       ...  \n",
       "211    False\n",
       "212    False\n",
       "213     True\n",
       "214    False\n",
       "215    False\n",
       "Name: runs, Length: 215, dtype: bool"
      ]
     },
     "execution_count": 71,
     "metadata": {},
     "output_type": "execute_result"
    }
   ],
   "source": [
    "vk >= 50"
   ]
  },
  {
   "cell_type": "code",
   "execution_count": 72,
   "id": "815db0ad-936c-4538-90bc-76f2f2252b1d",
   "metadata": {},
   "outputs": [],
   "source": [
    "#bolean indexing in series "
   ]
  },
  {
   "cell_type": "code",
   "execution_count": 73,
   "id": "fdafb1a1-bb1e-4ee5-b09c-570b5a26f300",
   "metadata": {},
   "outputs": [
    {
     "data": {
      "text/plain": [
       "50"
      ]
     },
     "execution_count": 73,
     "metadata": {},
     "output_type": "execute_result"
    }
   ],
   "source": [
    "vk[vk >= 50].size"
   ]
  },
  {
   "cell_type": "code",
   "execution_count": 74,
   "id": "c75b020d-376b-4dac-9ff4-9544cc08c0b2",
   "metadata": {},
   "outputs": [
    {
     "data": {
      "text/plain": [
       "165    225\n",
       "166    249\n",
       "167    265\n",
       "168    306\n",
       "169    261\n",
       "170    222\n",
       "225    224\n",
       "226    254\n",
       "227    214\n",
       "228    236\n",
       "229    261\n",
       "230    247\n",
       "231    207\n",
       "232    254\n",
       "233    301\n",
       "234    233\n",
       "240    202\n",
       "246    259\n",
       "248    213\n",
       "249    210\n",
       "252    216\n",
       "275    228\n",
       "276    237\n",
       "277    276\n",
       "279    290\n",
       "280    295\n",
       "281    245\n",
       "282    241\n",
       "283    267\n",
       "284    269\n",
       "285    211\n",
       "287    206\n",
       "288    202\n",
       "290    236\n",
       "291    222\n",
       "292    203\n",
       "312    230\n",
       "318    244\n",
       "324    243\n",
       "325    227\n",
       "326    259\n",
       "330    396\n",
       "331    312\n",
       "332    268\n",
       "333    229\n",
       "337    221\n",
       "338    225\n",
       "339    221\n",
       "340    202\n",
       "344    276\n",
       "345    258\n",
       "346    219\n",
       "347    212\n",
       "351    220\n",
       "354    204\n",
       "358    210\n",
       "359    209\n",
       "360    231\n",
       "361    226\n",
       "Name: Subscribers gained, dtype: int64"
      ]
     },
     "execution_count": 74,
     "metadata": {},
     "output_type": "execute_result"
    }
   ],
   "source": [
    "subs[subs>200]"
   ]
  },
  {
   "cell_type": "code",
   "execution_count": 75,
   "id": "c24242bd-db85-4436-80a9-8e426e957edb",
   "metadata": {},
   "outputs": [
    {
     "data": {
      "text/plain": [
       "59"
      ]
     },
     "execution_count": 75,
     "metadata": {},
     "output_type": "execute_result"
    }
   ],
   "source": [
    "subs[subs>200].size"
   ]
  },
  {
   "cell_type": "code",
   "execution_count": 76,
   "id": "40cc708f-5d71-4170-8535-fa68ed8a4d01",
   "metadata": {},
   "outputs": [],
   "source": [
    "#find actors with more than 20 movies "
   ]
  },
  {
   "cell_type": "code",
   "execution_count": 77,
   "id": "77b9b9d6-7b89-49cf-9bd6-cab34ac265ca",
   "metadata": {},
   "outputs": [],
   "source": [
    "num_movies = movies.value_counts()"
   ]
  },
  {
   "cell_type": "code",
   "execution_count": 78,
   "id": "a7370f71-a5f4-43f1-a97f-c2e7849bed69",
   "metadata": {},
   "outputs": [
    {
     "data": {
      "text/plain": [
       "Akshay Kumar          48\n",
       "Amitabh Bachchan      45\n",
       "Ajay Devgn            38\n",
       "Salman Khan           31\n",
       "Sanjay Dutt           26\n",
       "                      ..\n",
       "Mukesh Khanna          1\n",
       "Talha Arshad Reshi     1\n",
       "Paoli Dam              1\n",
       "Amita Pathak           1\n",
       "Meghan Jadhav          1\n",
       "Name: lead, Length: 566, dtype: int64"
      ]
     },
     "execution_count": 78,
     "metadata": {},
     "output_type": "execute_result"
    }
   ],
   "source": [
    "num_movies"
   ]
  },
  {
   "cell_type": "code",
   "execution_count": 79,
   "id": "7f1e62c5-286a-460a-8458-68701b77eb83",
   "metadata": {},
   "outputs": [
    {
     "data": {
      "text/plain": [
       "Akshay Kumar        48\n",
       "Amitabh Bachchan    45\n",
       "Ajay Devgn          38\n",
       "Salman Khan         31\n",
       "Sanjay Dutt         26\n",
       "Shah Rukh Khan      22\n",
       "Emraan Hashmi       21\n",
       "Name: lead, dtype: int64"
      ]
     },
     "execution_count": 79,
     "metadata": {},
     "output_type": "execute_result"
    }
   ],
   "source": [
    "num_movies[num_movies > 20]"
   ]
  },
  {
   "cell_type": "code",
   "execution_count": 80,
   "id": "e8f21988-b40d-44c0-8f07-cbbe34f83d23",
   "metadata": {},
   "outputs": [],
   "source": [
    "#plotting graphs using series "
   ]
  },
  {
   "cell_type": "code",
   "execution_count": 81,
   "id": "3de71d2a-bf91-4acf-ba31-5deb84811281",
   "metadata": {},
   "outputs": [
    {
     "data": {
      "text/plain": [
       "<Axes: >"
      ]
     },
     "execution_count": 81,
     "metadata": {},
     "output_type": "execute_result"
    },
    {
     "data": {
      "image/png": "[encoded data removed]",
      "text/plain": [
       "<Figure size 640x480 with 1 Axes>"
      ]
     },
     "metadata": {},
     "output_type": "display_data"
    }
   ],
   "source": [
    "subs.plot()"
   ]
  },
  {
   "cell_type": "code",
   "execution_count": 82,
   "id": "1d55b642-ea37-4f42-a812-066e705de00f",
   "metadata": {},
   "outputs": [
    {
     "data": {
      "text/plain": [
       "<Axes: >"
      ]
     },
     "execution_count": 82,
     "metadata": {},
     "output_type": "execute_result"
    },
    {
     "data": {
      "image/png": "[encoded data removed]",
      "text/plain": [
       "<Figure size 640x480 with 1 Axes>"
      ]
     },
     "metadata": {},
     "output_type": "display_data"
    }
   ],
   "source": [
    "movies.value_counts().head(20).plot(kind='bar')"
   ]
  },
  {
   "cell_type": "markdown",
   "id": "a61cd543-08d7-4ecc-a7ac-32f63392a13c",
   "metadata": {},
   "source": [
    "SOME IMPORTANT SERIES METHODS \n"
   ]
  },
  {
   "cell_type": "code",
   "execution_count": 83,
   "id": "b47ebf70-7463-4d59-b967-33219d68cb1e",
   "metadata": {},
   "outputs": [],
   "source": [
    "#astype --> change the type of \n",
    "vk = vk.astype('int16')"
   ]
  },
  {
   "cell_type": "code",
   "execution_count": 84,
   "id": "8a279b2f-7e22-4541-9b23-b52d65ef5709",
   "metadata": {},
   "outputs": [
    {
     "data": {
      "text/plain": [
       "match_no\n",
       "1       1\n",
       "2      23\n",
       "3      13\n",
       "4      12\n",
       "5       1\n",
       "       ..\n",
       "211     0\n",
       "212    20\n",
       "213    73\n",
       "214    25\n",
       "215     7\n",
       "Name: runs, Length: 215, dtype: int16"
      ]
     },
     "execution_count": 84,
     "metadata": {},
     "output_type": "execute_result"
    }
   ],
   "source": [
    "vk"
   ]
  },
  {
   "cell_type": "code",
   "execution_count": 85,
   "id": "45d1d2f3-0d0f-4fe0-8441-f826274db1ae",
   "metadata": {},
   "outputs": [
    {
     "data": {
      "text/plain": [
       "43"
      ]
     },
     "execution_count": 85,
     "metadata": {},
     "output_type": "execute_result"
    }
   ],
   "source": [
    "#between \n",
    "vk[vk.between(51,99)].size"
   ]
  },
  {
   "cell_type": "code",
   "execution_count": 86,
   "id": "5f65e288-51df-4a2c-b4b9-236d3fbbf326",
   "metadata": {},
   "outputs": [
    {
     "data": {
      "text/plain": [
       "0      100\n",
       "1      100\n",
       "2      100\n",
       "3      100\n",
       "4      100\n",
       "      ... \n",
       "360    200\n",
       "361    200\n",
       "362    155\n",
       "363    144\n",
       "364    172\n",
       "Name: Subscribers gained, Length: 365, dtype: int64"
      ]
     },
     "execution_count": 86,
     "metadata": {},
     "output_type": "execute_result"
    }
   ],
   "source": [
    "#clip\n",
    "subs.clip(100,200)"
   ]
  },
  {
   "cell_type": "code",
   "execution_count": 87,
   "id": "99fcb314-c45d-4d81-a86f-1a7a66f21d08",
   "metadata": {},
   "outputs": [
    {
     "data": {
      "text/plain": [
       "0       48\n",
       "1       57\n",
       "2       40\n",
       "3       43\n",
       "4       44\n",
       "      ... \n",
       "360    231\n",
       "361    226\n",
       "362    155\n",
       "363    144\n",
       "364    172\n",
       "Name: Subscribers gained, Length: 365, dtype: int64"
      ]
     },
     "execution_count": 87,
     "metadata": {},
     "output_type": "execute_result"
    }
   ],
   "source": [
    "subs"
   ]
  },
  {
   "cell_type": "code",
   "execution_count": 88,
   "id": "abd709a1-a1af-4670-8138-d590b1b5c5b6",
   "metadata": {},
   "outputs": [
    {
     "data": {
      "text/plain": [
       "0    1\n",
       "1    1\n",
       "2    2\n",
       "3    2\n",
       "4    3\n",
       "5    3\n",
       "6    3\n",
       "7    4\n",
       "8    5\n",
       "dtype: int64"
      ]
     },
     "execution_count": 88,
     "metadata": {},
     "output_type": "execute_result"
    }
   ],
   "source": [
    "#drop_duplicates\n",
    "temp = pd.Series([1,1,2,2,3,3,3,4,5])\n",
    "temp"
   ]
  },
  {
   "cell_type": "code",
   "execution_count": 89,
   "id": "c1f2ce38-8a9b-4dee-816b-9e7220825a48",
   "metadata": {},
   "outputs": [
    {
     "data": {
      "text/plain": [
       "4"
      ]
     },
     "execution_count": 89,
     "metadata": {},
     "output_type": "execute_result"
    }
   ],
   "source": [
    "#duplicated\n",
    "temp.duplicated().sum()"
   ]
  },
  {
   "cell_type": "code",
   "execution_count": 90,
   "id": "3b8f951c-eef2-4274-a3a3-421c35ecbfae",
   "metadata": {},
   "outputs": [
    {
     "data": {
      "text/plain": [
       "1    1\n",
       "3    2\n",
       "6    3\n",
       "7    4\n",
       "8    5\n",
       "dtype: int64"
      ]
     },
     "execution_count": 90,
     "metadata": {},
     "output_type": "execute_result"
    }
   ],
   "source": [
    "temp.drop_duplicates(keep=\"last\")"
   ]
  },
  {
   "cell_type": "code",
   "execution_count": 91,
   "id": "4e6b510e-4e24-4be5-b622-1578eb798c4f",
   "metadata": {},
   "outputs": [
    {
     "data": {
      "text/plain": [
       "movie\n",
       "1920 (film)               Rajniesh Duggall\n",
       "1920: London                 Sharman Joshi\n",
       "1920: The Evil Returns         Vicky Ahuja\n",
       "1971 (2007 film)            Manoj Bajpayee\n",
       "2 States (2014 film)          Arjun Kapoor\n",
       "                                ...       \n",
       "Yeh Saali Aashiqui            Vardhan Puri\n",
       "Zed Plus                     Vinod Acharya\n",
       "Zid (2014 film)             Mannara Chopra\n",
       "Zindagi 50-50                  Veena Malik\n",
       "Zor Lagaa Ke...Haiya!        Meghan Jadhav\n",
       "Name: lead, Length: 566, dtype: object"
      ]
     },
     "execution_count": 91,
     "metadata": {},
     "output_type": "execute_result"
    }
   ],
   "source": [
    "movies.drop_duplicates()"
   ]
  },
  {
   "cell_type": "code",
   "execution_count": 92,
   "id": "8417ad52-564e-41a7-9f57-f9f64d7a73d3",
   "metadata": {},
   "outputs": [
    {
     "data": {
      "text/plain": [
       "137"
      ]
     },
     "execution_count": 92,
     "metadata": {},
     "output_type": "execute_result"
    }
   ],
   "source": [
    "vk.duplicated().sum()"
   ]
  },
  {
   "cell_type": "code",
   "execution_count": 93,
   "id": "e752888a-20f4-4bb7-b838-312a4e592f20",
   "metadata": {},
   "outputs": [
    {
     "data": {
      "text/plain": [
       "0         1.0\n",
       "1         2.0\n",
       "2         3.0\n",
       "3         NaN\n",
       "4         6.0\n",
       "5        78.0\n",
       "6         NaN\n",
       "7       372.0\n",
       "8        83.0\n",
       "9     12278.0\n",
       "10        2.0\n",
       "11        NaN\n",
       "dtype: float64"
      ]
     },
     "execution_count": 93,
     "metadata": {},
     "output_type": "execute_result"
    }
   ],
   "source": [
    "temp = pd.Series([1,2,3,np.nan,6,78,np.nan,372,83,12278,2,np.nan])\n",
    "temp"
   ]
  },
  {
   "cell_type": "code",
   "execution_count": 94,
   "id": "66f8f0dc-a65c-4716-9938-dbb0ef0ea1eb",
   "metadata": {},
   "outputs": [
    {
     "data": {
      "text/plain": [
       "12"
      ]
     },
     "execution_count": 94,
     "metadata": {},
     "output_type": "execute_result"
    }
   ],
   "source": [
    "temp.size"
   ]
  },
  {
   "cell_type": "code",
   "execution_count": 95,
   "id": "403baa71-61b6-4210-9f48-64d537b56850",
   "metadata": {},
   "outputs": [
    {
     "data": {
      "text/plain": [
       "9"
      ]
     },
     "execution_count": 95,
     "metadata": {},
     "output_type": "execute_result"
    }
   ],
   "source": [
    "temp.count()"
   ]
  },
  {
   "cell_type": "code",
   "execution_count": 96,
   "id": "7c0607ef-4da3-4028-a2ec-3492ca72f973",
   "metadata": {},
   "outputs": [
    {
     "data": {
      "text/plain": [
       "0"
      ]
     },
     "execution_count": 96,
     "metadata": {},
     "output_type": "execute_result"
    }
   ],
   "source": [
    "#isnull\n",
    "vk.isna().sum()"
   ]
  },
  {
   "cell_type": "code",
   "execution_count": 97,
   "id": "d07b6b21-a0e0-47bd-a707-377680b35067",
   "metadata": {},
   "outputs": [
    {
     "data": {
      "text/plain": [
       "0         1.0\n",
       "1         2.0\n",
       "2         3.0\n",
       "3         NaN\n",
       "4         6.0\n",
       "5        78.0\n",
       "6         NaN\n",
       "7       372.0\n",
       "8        83.0\n",
       "9     12278.0\n",
       "10        2.0\n",
       "11        NaN\n",
       "dtype: float64"
      ]
     },
     "execution_count": 97,
     "metadata": {},
     "output_type": "execute_result"
    }
   ],
   "source": [
    "#dropna\n",
    "temp"
   ]
  },
  {
   "cell_type": "code",
   "execution_count": 98,
   "id": "8134f51a-fb1c-4b20-bc44-010026e3dcec",
   "metadata": {},
   "outputs": [
    {
     "data": {
      "text/plain": [
       "0         1.0\n",
       "1         2.0\n",
       "2         3.0\n",
       "4         6.0\n",
       "5        78.0\n",
       "7       372.0\n",
       "8        83.0\n",
       "9     12278.0\n",
       "10        2.0\n",
       "dtype: float64"
      ]
     },
     "execution_count": 98,
     "metadata": {},
     "output_type": "execute_result"
    }
   ],
   "source": [
    "temp.dropna()"
   ]
  },
  {
   "cell_type": "code",
   "execution_count": 99,
   "id": "719af220-4efc-4727-9997-9d1bf9eccc22",
   "metadata": {},
   "outputs": [
    {
     "data": {
      "text/plain": [
       "0         1.0\n",
       "1         2.0\n",
       "2         3.0\n",
       "3         0.0\n",
       "4         6.0\n",
       "5        78.0\n",
       "6         0.0\n",
       "7       372.0\n",
       "8        83.0\n",
       "9     12278.0\n",
       "10        2.0\n",
       "11        0.0\n",
       "dtype: float64"
      ]
     },
     "execution_count": 99,
     "metadata": {},
     "output_type": "execute_result"
    }
   ],
   "source": [
    "#fillna\n",
    "temp.fillna(0)"
   ]
  },
  {
   "cell_type": "code",
   "execution_count": 100,
   "id": "8716ff9b-528c-465f-8215-a3db69f93eaf",
   "metadata": {},
   "outputs": [
    {
     "data": {
      "text/plain": [
       "match_no\n",
       "82    99\n",
       "86    49\n",
       "Name: runs, dtype: int16"
      ]
     },
     "execution_count": 100,
     "metadata": {},
     "output_type": "execute_result"
    }
   ],
   "source": [
    "#isin\n",
    "vk[(vk == 49) | (vk == 99)]\n",
    "vk[vk.isin([49,99])]"
   ]
  },
  {
   "cell_type": "code",
   "execution_count": 101,
   "id": "28e288b3-3ded-444e-95e0-8c605ee18298",
   "metadata": {},
   "outputs": [
    {
     "data": {
      "text/plain": [
       "movie\n",
       "1920 (film)                 RAJNIESH\n",
       "1920: London                 SHARMAN\n",
       "1920: The Evil Returns         VICKY\n",
       "1971 (2007 film)               MANOJ\n",
       "2 States (2014 film)           ARJUN\n",
       "                              ...   \n",
       "Zindagi 50-50                  VEENA\n",
       "Zindagi Na Milegi Dobara     HRITHIK\n",
       "Zindagi Tere Naam             MITHUN\n",
       "Zokkomon                    DARSHEEL\n",
       "Zor Lagaa Ke...Haiya!         MEGHAN\n",
       "Name: lead, Length: 1500, dtype: object"
      ]
     },
     "execution_count": 101,
     "metadata": {},
     "output_type": "execute_result"
    }
   ],
   "source": [
    "#apply\n",
    "movies.apply(lambda x:x.split()[0].upper())"
   ]
  },
  {
   "cell_type": "code",
   "execution_count": 102,
   "id": "75738254-ed46-477a-8065-5d23aa80c136",
   "metadata": {},
   "outputs": [
    {
     "data": {
      "text/plain": [
       "0       48\n",
       "1       57\n",
       "2       40\n",
       "3       43\n",
       "4       44\n",
       "      ... \n",
       "360    231\n",
       "361    226\n",
       "362    155\n",
       "363    144\n",
       "364    172\n",
       "Name: Subscribers gained, Length: 365, dtype: int64"
      ]
     },
     "execution_count": 102,
     "metadata": {},
     "output_type": "execute_result"
    }
   ],
   "source": [
    "subs"
   ]
  },
  {
   "cell_type": "code",
   "execution_count": 103,
   "id": "e7de414a-19f0-4d12-8a8f-9022dd5b88fc",
   "metadata": {},
   "outputs": [
    {
     "data": {
      "text/plain": [
       "0       bad day\n",
       "1       bad day\n",
       "2       bad day\n",
       "3       bad day\n",
       "4       bad day\n",
       "         ...   \n",
       "360    good day\n",
       "361    good day\n",
       "362    good day\n",
       "363    good day\n",
       "364    good day\n",
       "Name: Subscribers gained, Length: 365, dtype: object"
      ]
     },
     "execution_count": 103,
     "metadata": {},
     "output_type": "execute_result"
    }
   ],
   "source": [
    "subs.apply(lambda x:'good day' if x > subs.mean() else 'bad day')"
   ]
  },
  {
   "cell_type": "code",
   "execution_count": 104,
   "id": "084d6e5f-438a-4a81-9d47-595e6d5948df",
   "metadata": {},
   "outputs": [],
   "source": [
    "#copy and view "
   ]
  },
  {
   "cell_type": "code",
   "execution_count": 105,
   "id": "6b7db065-aef0-4d23-bf7d-d093bb33d2c7",
   "metadata": {},
   "outputs": [
    {
     "data": {
      "text/plain": [
       "match_no\n",
       "1       1\n",
       "2      23\n",
       "3      13\n",
       "4      12\n",
       "5       1\n",
       "       ..\n",
       "211     0\n",
       "212    20\n",
       "213    73\n",
       "214    25\n",
       "215     7\n",
       "Name: runs, Length: 215, dtype: int16"
      ]
     },
     "execution_count": 105,
     "metadata": {},
     "output_type": "execute_result"
    }
   ],
   "source": [
    "vk"
   ]
  },
  {
   "cell_type": "code",
   "execution_count": 106,
   "id": "8c397bc2-5a24-4e3d-b24e-aef7b6870902",
   "metadata": {},
   "outputs": [],
   "source": [
    "new_vk = vk.head()"
   ]
  },
  {
   "cell_type": "code",
   "execution_count": 107,
   "id": "f9083604-9c76-4133-a125-2771f25f51b1",
   "metadata": {},
   "outputs": [
    {
     "data": {
      "text/plain": [
       "match_no\n",
       "1     1\n",
       "2    23\n",
       "3    13\n",
       "4    12\n",
       "5     1\n",
       "Name: runs, dtype: int16"
      ]
     },
     "execution_count": 107,
     "metadata": {},
     "output_type": "execute_result"
    }
   ],
   "source": [
    "new_vk"
   ]
  },
  {
   "cell_type": "code",
   "execution_count": 108,
   "id": "5df29436-b808-4261-9d2a-8ae8c108a530",
   "metadata": {},
   "outputs": [],
   "source": [
    "new_vk[1] = 1000"
   ]
  },
  {
   "cell_type": "code",
   "execution_count": 109,
   "id": "ef30eeb6-0051-4bf6-b307-2b776722d0a9",
   "metadata": {},
   "outputs": [
    {
     "data": {
      "text/plain": [
       "match_no\n",
       "1      1000\n",
       "2        23\n",
       "3        13\n",
       "4        12\n",
       "5         1\n",
       "       ... \n",
       "211       0\n",
       "212      20\n",
       "213      73\n",
       "214      25\n",
       "215       7\n",
       "Name: runs, Length: 215, dtype: int16"
      ]
     },
     "execution_count": 109,
     "metadata": {},
     "output_type": "execute_result"
    }
   ],
   "source": [
    "vk"
   ]
  },
  {
   "cell_type": "code",
   "execution_count": 110,
   "id": "5f3759f6-bebf-4ad2-895b-2ed8cf0c073a",
   "metadata": {},
   "outputs": [],
   "source": [
    "new_vk_copy = vk.head().copy()"
   ]
  },
  {
   "cell_type": "code",
   "execution_count": 111,
   "id": "e93b40f0-0fdc-4e38-9b33-74eade833f92",
   "metadata": {},
   "outputs": [],
   "source": [
    "new_vk_copy[1] = 20"
   ]
  },
  {
   "cell_type": "code",
   "execution_count": 112,
   "id": "4aa15159-b41e-43cf-8c25-e1f79d5f7f48",
   "metadata": {},
   "outputs": [
    {
     "data": {
      "text/plain": [
       "match_no\n",
       "1    20\n",
       "2    23\n",
       "3    13\n",
       "4    12\n",
       "5     1\n",
       "Name: runs, dtype: int16"
      ]
     },
     "execution_count": 112,
     "metadata": {},
     "output_type": "execute_result"
    }
   ],
   "source": [
    "new_vk_copy"
   ]
  },
  {
   "cell_type": "code",
   "execution_count": 113,
   "id": "ee7180ef-5ff9-4b52-b618-4250064b4fb6",
   "metadata": {},
   "outputs": [
    {
     "data": {
      "text/plain": [
       "match_no\n",
       "1      1000\n",
       "2        23\n",
       "3        13\n",
       "4        12\n",
       "5         1\n",
       "       ... \n",
       "211       0\n",
       "212      20\n",
       "213      73\n",
       "214      25\n",
       "215       7\n",
       "Name: runs, Length: 215, dtype: int16"
      ]
     },
     "execution_count": 113,
     "metadata": {},
     "output_type": "execute_result"
    }
   ],
   "source": [
    "vk"
   ]
  },
  {
   "cell_type": "code",
   "execution_count": 114,
   "id": "bb2db5da-0698-46b9-ab91-927751b18a03",
   "metadata": {},
   "outputs": [
    {
     "data": {
      "text/plain": [
       "match_no\n",
       "1    1000\n",
       "2      23\n",
       "3      13\n",
       "4      12\n",
       "5       1\n",
       "Name: runs, dtype: int16"
      ]
     },
     "execution_count": 114,
     "metadata": {},
     "output_type": "execute_result"
    }
   ],
   "source": [
    "new_vk"
   ]
  },
  {
   "cell_type": "code",
   "execution_count": null,
   "id": "ad2ae379-58ce-407f-9e03-52ee77d1f70c",
   "metadata": {},
   "outputs": [],
   "source": []
  }
 ],
 "metadata": {
  "kernelspec": {
   "display_name": "Python 3 (ipykernel)",
   "language": "python",
   "name": "python3"
  },
  "language_info": {
   "codemirror_mode": {
    "name": "ipython",
    "version": 3
   },
   "file_extension": ".py",
   "mimetype": "text/x-python",
   "name": "python",
   "nbconvert_exporter": "python",
   "pygments_lexer": "ipython3",
   "version": "3.10.2"
  }
 },
 "nbformat": 4,
 "nbformat_minor": 5
}
